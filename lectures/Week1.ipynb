{
 "cells": [
  {
   "cell_type": "markdown",
   "metadata": {},
   "source": [
    "# Week 1\n",
    "\n",
    "## Overview\n",
    "As explained in the [Before week 1: How to take this class](https://nbviewer.org/github/suneman/socialdata2022/blob/main/lectures/How_To_Take_This_Class.ipynb) notebook, each week of this class is an Jupyter notebook like this one. In order to follow the class, you simply start reading from the top, following the instructions.\n",
    "\n",
    "**Hint**: And you can ask us for help at any point if you get stuck!"
   ]
  },
  {
   "cell_type": "markdown",
   "metadata": {
    "collapsed": true
   },
   "source": [
    "## Today\n",
    "\n",
    "This first lecture will go over a few different topics to get you started \n",
    "\n",
    "* First, I'll explain a little bit about what we'll be doing this year (hint, you may want to watch _Minority Report_ if you want to prepare deeply for the class 😊).\n",
    "* Second, we'll start by loading some real-world data into your very own computers and getting started with some data analysis."
   ]
  },
  {
   "cell_type": "markdown",
   "metadata": {},
   "source": [
    "## Part 1: Predictive policing. A case to learn from\n",
    "\n",
    "For a number of years I've been a little bit obsessed with [predictive policing](https://www.sciencemag.org/news/2016/09/can-predictive-policing-prevent-crime-it-happens). I guess there are various reasons. For example:\n",
    "\n",
    "* I think it's an interesting application of data science. \n",
    "* It connects to popular culture in a big way. Both through TV shows, such as [NUMB3RS](https://en.wikipedia.org/wiki/Numbers_(TV_series)) (it also features in Bones ... or any of the CSI), and also any number of movies, my favorite of which has to be [Minority report](https://www.imdb.com/title/tt0181689/).\n",
    "* Predictive policing is also big business. Companies like [PredPol](https://www.predpol.com), [Palantir](https://www.theverge.com/2018/2/27/17054740/palantir-predictive-policing-tool-new-orleans-nopd), and many other companies offer their services law enforcement by analyzing crime data. \n",
    "* It hints at the dark sides of Data Science. In these algorithms, concepts like [bias, fairness, and accountability](https://www.smithsonianmag.com/innovation/artificial-intelligence-is-now-used-predict-crime-is-it-biased-180968337/) become incredibly important when the potential outcome of an algorithm is real people going to prison.  \n",
    "* And, finally there's lots of data available!! Chicago, NYC, and San Francisco all have crime data available freely online.\n",
    "\n",
    "Below is a little video to pique your interest. "
   ]
  },
  {
   "cell_type": "markdown",
   "metadata": {},
   "source": [
    "[![A link to the video](http://img.youtube.com/vi/YxvyeaL7NEM/0.jpg)](http://www.youtube.com/watch?v=YxvyeaL7NEM \"The video\")"
   ]
  },
  {
   "cell_type": "markdown",
   "metadata": {},
   "source": [
    "All this is to say that in the coming weeks, we'll be working to understand crime in San Francisco. We'll be using the SF crime data as a basis for our work on data analysis and data visualization. \n",
    "\n",
    "We will draw on data from the project [SF OpenData](https://data.sfgov.org), looking into SFPD incidents which have been recorded back since January 2003.\n",
    "\n",
    "*Reading*\n",
    "\n",
    "Read [this article](https://www.sciencemag.org/news/2016/09/can-predictive-policing-prevent-crime-it-happens) from science magazine to get a bit deeper sense of the topic.\n",
    "\n",
    "\n",
    "> *Exercise*\n",
    "> \n",
    "> Answer the following questions in your own words\n",
    "> \n",
    "> * According to the article, is predictive policing better than best practice techniques for law enforcement? The article is from 2016. Take a look around the web, does this still seem to be the case in 2020? (hint, when you evaluate the evidence consider the source)\n",
    "> * List and explain some of the possible issues with predictive policing according to the article. "
   ]
  },
  {
   "cell_type": "markdown",
   "metadata": {},
   "source": [
    "# Part 2: Load some crime-data into your Jupyter notebook\n",
    "\n",
    "The data we will be working with is perfect for `pandas`, so a good approach is to go to [Python Bootcamp](https://nbviewer.org/github/suneman/socialdata2022/blob/main/lectures/PythonBootcamp.ipynb) lecture if you don't and figure out how to load data into `pandas' means. \n",
    "\n",
    "But this course is not about programming orthdoxy, so if you don't like `pandas`, you're free to use other solutions. There are many other ways to load data into Python, e.g. using dictionaries.\n",
    "\n",
    "> *Exercise 1*\n",
    ">\n",
    "> * Go to https://datasf.org/opendata/\n",
    "> * Click on \"Public Safety\"\n",
    "> * You will notice that the SF crime data is divided into two periods. One from 2003 to May 2018 and one which is all of 2018 to the present. **Today, to keep things easy, we will just work with the data from 2003 to 2018** (from January 1st 2003 to December 31st 2017 to be exact). \n",
    "> * Thus, you may simply download all police incidence reports, historical 2003 to may 2018. You can get everything as a big CSV file if you press the *Export* button (it's a snappy little ~500MB file).\n",
    "> * To get this thing into `pandas`, you can use thie tips and tricks described [here](https://www.shanelynn.ie/python-pandas-read_csv-load-data-from-csv-files/). If you want to try your luck without `pandas`, you can use the `csv` package to load the file.\n",
    "> * Now generate the following simple statistics\n",
    ">   - Report the total number of crimes in the dataset.\n",
    ">   - List the various categories of crime. How many are there? \n",
    ">   - List the number of crimes in each category.\n",
    "\n",
    "---\n",
    "\n",
    "In order to do awesome *predictive policing* later on in the class, we're going to dissect the SF crime-data quite thoroughly to figure out what has been going on over the last  years on the San Francisco crime scene. \n",
    "\n",
    "> *Exercise 2*: The types of crimes. The first field we'll dig into is the column \"Category\".\n",
    "> * We have already counted the number of crimes in each category. What is the most commonly occurring category of crime? What is the least frequently occurring?\n",
    "> * Create a bar-plot over crime occurrences. This is a data visualization class, so here is the first essential lesson: **For a plot to be informative you need to label the axes** (The police chief will be furious if you forget). It can also be nice to other relevant pieces of info, title, labels, etc.). Mine looks like this \n",
    "\n",
    "<div>\n",
    "<img src=\"https://raw.githubusercontent.com/suneman/socialdata2022/main/files/CrimeOccurrencesByCategory.png\" width=\"700\"/>\n",
    "</div>\n",
    "\n",
    "---\n",
    "\n",
    "The plot above already gives us a bit of information but does not tell us anything about how crimes changed over the years. Let's have a look at it!\n",
    "\n",
    "> *Exercise 3*: Temporal patterns.\n",
    "> * To start off easily, let's count the number of crimes per year:\n",
    ">     * What is the year with most crimes? \n",
    ">     * What is the year with the fewest crimes? (**hint** if your result is 2018, go back and see what I wrote about the date range).\n",
    ">     * What's the average number of crimes per year? \n",
    "> * Now, let's change our bar-plot above by replacing the count with the *average number of crimes per year by category* and by adding its *standard deviation*.\n",
    "> * Finally, Police chief Suneman is interested in the temporal development of only a subset of categories, the so-called focus crimes. Those categories are listed below (for convenient copy-paste action). Now create bar-charts displaying the year-by-year development of each of these categories across the years 2003-2017.\n",
    "> "
   ]
  },
  {
   "cell_type": "code",
   "execution_count": 36,
   "metadata": {},
   "outputs": [
    {
     "name": "stdout",
     "output_type": "stream",
     "text": [
      "The total number of crimes in this dataset is: 2129525\n",
      "There are 37 categories\n",
      "Number of each crimes in each category: {'ROBBERY': 54467, 'VEHICLE THEFT': 126228, 'ARSON': 3875, 'ASSAULT': 167042, 'TRESPASS': 19194, 'BURGLARY': 91067, 'LARCENY/THEFT': 477975, 'WARRANTS': 99821, 'OTHER OFFENSES': 301874, 'DRUG/NARCOTIC': 117821, 'SUSPICIOUS OCC': 79087, 'LIQUOR LAWS': 2840, 'VANDALISM': 114718, 'WEAPON LAWS': 21004, 'NON-CRIMINAL': 236928, 'MISSING PERSON': 44268, 'FRAUD': 41348, 'SEX OFFENSES, FORCIBLE': 8747, 'SECONDARY CODES': 22378, 'DISORDERLY CONDUCT': 9932, 'RECOVERED VEHICLE': 8688, 'KIDNAPPING': 4282, 'FORGERY/COUNTERFEITING': 22995, 'PROSTITUTION': 16501, 'DRUNKENNESS': 9760, 'BAD CHECKS': 924, 'DRIVING UNDER THE INFLUENCE': 5652, 'LOITERING': 2402, 'STOLEN PROPERTY': 11450, 'SUICIDE': 1291, 'BRIBERY': 796, 'EXTORTION': 729, 'EMBEZZLEMENT': 2984, 'GAMBLING': 343, 'PORNOGRAPHY/OBSCENE MAT': 57, 'SEX OFFENSES, NON FORCIBLE': 43, 'TREA': 14}\n",
      "The most commonly occuring category of crime is: LARCENY/THEFT\n",
      "The least frequently category is: TREA\n"
     ]
    },
    {
     "data": {
      "image/png": "[encoded data removed]",
      "text/plain": [
       "<Figure size 432x288 with 1 Axes>"
      ]
     },
     "metadata": {
      "needs_background": "light"
     },
     "output_type": "display_data"
    }
   ],
   "source": [
    "import pandas as pd\n",
    "import matplotlib.pyplot as plt\n",
    "\n",
    "### TASK 1 ###\n",
    "\n",
    "# Reads the dataset\n",
    "crime_dataset = pd.read_csv(\"Police_Department_Incident_Reports__Historical_2003_to_May_2018.csv\")\n",
    "\n",
    "# Report the total number of crimes in the dataset.\n",
    "total_crimes = len(crime_dataset)\n",
    "print(\"The total number of crimes in this dataset is: \" + str(total_crimes))\n",
    "\n",
    "categories = crime_dataset[\"Category\"]\n",
    "\n",
    "categories_dict = {}\n",
    "\n",
    "#TODO: find more efficient way to do this: \n",
    "for i in range(len(crime_dataset)):\n",
    "    if categories[i] in categories_dict.keys():\n",
    "        categories_dict[categories[i]] += 1\n",
    "    else:\n",
    "        categories_dict[categories[i]] = 1\n",
    "\n",
    "\n",
    "# List the various categories of crime. How many are there?\n",
    "total_categories = len(categories_dict.keys())\n",
    "print(\"There are \" + str(total_categories) + \" categories\")\n",
    "\n",
    "# List the number of crimes in each category.\n",
    "print(\"Number of each crimes in each category: \"  + str(categories_dict))\n",
    "\n",
    "\n",
    "### TASK 2 ###\n",
    "\n",
    "# We have already counted the number of crimes in each category.\n",
    "# What is the most commonly occurring category of crime? What is the least frequently occurring?'\n",
    "\n",
    "most_occuring_category = max(categories_dict, key = categories_dict.get)\n",
    "least_frequently_category = min(categories_dict,key=categories_dict.get)\n",
    "print(\"The most commonly occuring category of crime is: \" + most_occuring_category)\n",
    "print(\"The least frequently category is: \" + least_frequently_category)\n",
    "\n",
    "\n",
    "plt.bar(categories_dict.keys(),categories_dict.values(),color=\"blue\",label=\"Initial test\")\n",
    "plt.show()\n",
    "\n",
    "\n",
    "\n",
    "\n"
   ]
  },
  {
   "cell_type": "code",
   "execution_count": 6,
   "metadata": {},
   "outputs": [],
   "source": [
    "focuscrimes = set(['WEAPON LAWS', 'PROSTITUTION', 'DRIVING UNDER THE INFLUENCE', 'ROBBERY', 'BURGLARY', 'ASSAULT', 'DRUNKENNESS', 'DRUG/NARCOTIC', 'TRESPASS', 'LARCENY/THEFT', 'VANDALISM', 'VEHICLE THEFT', 'STOLEN PROPERTY', 'DISORDERLY CONDUCT'])"
   ]
  },
  {
   "cell_type": "markdown",
   "metadata": {},
   "source": [
    "My plot looks like this for the 14 focus crimes:\n",
    "\n",
    "  ![Barplots](https://raw.githubusercontent.com/suneman/socialdata2022/main/files/CrimesYearCategory.png)\n",
    "    \n",
    "Note that names of each plot explain what you're looking at. And that when you have many subplots it's OK that you don't label every single axis. You may simply put axes on the bottom / side that are common for all plots.) \n",
    "\n",
    "> *Exercise 3 (continued)*\n",
    "> * Comment on at least three interesting trends in your plot. \n",
    ">    \n",
    "> Also, here's a fun fact: The drop in car thefts is due to new technology called 'engine immobilizer systems' - get the full story [here](https://www.nytimes.com/2014/08/12/upshot/heres-why-stealing-cars-went-out-of-fashion.html). \n",
    "\n",
    "You've made it! You have successfully completed Lecture 1. If you didn't get enough, try to **personalize** your plots. We have already added titles, labels, etc., however, the look of default pandas plots is quite boring (that blue... and font... 😂). "
   ]
  },
  {
   "cell_type": "code",
   "execution_count": null,
   "metadata": {},
   "outputs": [],
   "source": []
  }
 ],
 "metadata": {
  "kernelspec": {
   "display_name": "Python 3.8.2 64-bit",
   "language": "python",
   "name": "python3"
  },
  "language_info": {
   "codemirror_mode": {
    "name": "ipython",
    "version": 3
   },
   "file_extension": ".py",
   "mimetype": "text/x-python",
   "name": "python",
   "nbconvert_exporter": "python",
   "pygments_lexer": "ipython3",
   "version": "3.8.2"
  },
  "vscode": {
   "interpreter": {
    "hash": "2c3a8a33346c84a3894a0072436beea2af9ba386e98a330a7ad619fcf087a6b7"
   }
  }
 },
 "nbformat": 4,
 "nbformat_minor": 1
}
