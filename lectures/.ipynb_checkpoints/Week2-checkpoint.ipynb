{
 "cells": [
  {
   "cell_type": "markdown",
   "metadata": {},
   "source": [
    "# Week 2\n",
    "\n",
    "As explained in the [Before week 1: How to take this class](https://nbviewer.org/github/suneman/socialdata2023/blob/main/lectures/How_To_Take_This_Class.ipynb) notebook, each week of this class is an Jupyter notebook like this one. In order to follow the class, you simply start reading from the top, following the instructions.\n",
    "\n",
    "**New Info**: Remember that this week is also the time to learn a bit about how the the assignments and the final project work. So if you havn't already, check out the [Before week 2: Assignments and Final Project](https://github.com/suneman/socialdata2023/blob/main/lectures/Assignments_And_Final_Project.ipynb) notebook."
   ]
  },
  {
   "cell_type": "markdown",
   "metadata": {},
   "source": [
    "## Overview\n",
    "\n",
    "Today's lecture does a few things.\n",
    "* First there is an introduction to data visualization incl a little exercise and a video (Part 1). \n",
    "* As the main event, we will work with crime-data and generate a large number of interesting and informative plots (Part 2,4,5).\n",
    "* We will also talk a bit about what makes a good plot (Part 3)."
   ]
  },
  {
   "cell_type": "markdown",
   "metadata": {},
   "source": [
    "## Part 1: A little visualization exercise\n",
    "\n",
    "Start by downloading these four datasets: [Data 1](https://raw.githubusercontent.com/suneman/socialdata2023/main/files/data1.tsv), [Data 2](https://raw.githubusercontent.com/suneman/socialdata2023/main/files/data2.tsv), [Data 3](https://raw.githubusercontent.com/suneman/socialdata2023/main/files/data3.tsv), and [Data 4](https://raw.githubusercontent.com/suneman/socialdata2023/main/files/data4.tsv). The format is `.tsv`, which stands for _tab separated values_. \n",
    "As you will later realize, these are famous datasets!\n",
    "Each file has two columns (separated using the tab character). The first column is $x$-values, and the second column is $y$-values.  \n",
    "\n",
    "It's ok to just download these files to disk by right-clicking on each one, but if you use Python and `urllib` or `urllib2` to get them, I'll really be impressed. If you don't know how to do that, I recommend opening up Google and typing \"download file using Python\" or something like that. When interpreting the search results remember that _stackoverflow_ is your friend.\n",
    "\n",
    "Now, to the exercise:\n",
    "\n",
    "> *Exercise*: \n",
    "> \n",
    "> * Using the `numpy` function `mean`, calculate the mean of both $x$-values and $y$-values for each dataset. \n",
    ">      * Use python string formatting to print precisely two decimal places of these results to the output cell. Check out [this _stackoverflow_ page](http://stackoverflow.com/questions/8885663/how-to-format-a-floating-number-to-fixed-width-in-python) for help with the string formatting. \n",
    "> * Now calculate the variance for all of the various sets of $x$- and $y$-values, by using the `numpy` function `var`. Print it to three decimal places.\n",
    "> * Use `numpy` to calculate the [Pearson correlation](https://en.wikipedia.org/wiki/Pearson_product-moment_correlation_coefficient) between $x$- and $y$-values for all four data sets (also print to three decimal places).\n",
    "> * The next step is use _linear regression_ to fit a straight line $f(x) = a x + b$ through each dataset and report $a$ and $b$ (to two decimal places). An easy way to fit a straight line in Python is using `scipy`'s `linregress`. It works like this\n",
    "> ```\n",
    "> from scipy import stats\n",
    "> slope, intercept, r_value, p_value, std_err = stats.linregress(x,y)\n",
    ">```\n",
    "> * Comment on the results from the previous steps. What do you observe? \n",
    "> * Finally, it's time to plot the four datasets using `matplotlib.pyplot`. Use a two-by-two [`subplot`](http://matplotlib.org/examples/pylab_examples/subplot_demo.html) to put all of the plots nicely in a grid and use the same $x$ and $y$ range for all four plots. And include the linear fit in all four plots. (To get a sense of what I think the plot should look like, you can take a look at my version [here](https://raw.githubusercontent.com/suneman/socialdata2023/main/files/anscombe.png).)\n",
    "> * Explain - in your own words - what you think my point with this exercise is (see below for tips on this).\n",
    "\n",
    "\n",
    "Get more insight in the ideas behind this exercise by reading [here](https://en.wikipedia.org/wiki/Anscombe%27s_quartet). Here you can also get an explanation of why the datasets are actually famous - I mean they have their own Wikipedia page!!"
   ]
  },
  {
   "cell_type": "code",
   "execution_count": 66,
   "metadata": {},
   "outputs": [
    {
     "name": "stdout",
     "output_type": "stream",
     "text": [
      "Mean value for x-value (Data 1) is: 9.0\n",
      "Mean value for y-value (Data 1) is: 7.5\n",
      "Variance value for x (Data1): 10.0\n",
      "Variance value for y (Data1): 3.752\n",
      "Pearson Correlation value (Data1):[[1.         0.81642052]\n",
      " [0.81642052 1.        ]]\n",
      "\n",
      "\n",
      "Mean value for x-value (Data 2) is: 9.0\n",
      "Mean value for y-value (Data 2) is: 7.5\n",
      "Variance value for x (Data 2): 10.0\n",
      "Variance value for y (Data 2): 3.752\n",
      "Pearson Correlation value (Data2):[[1.         0.81623651]\n",
      " [0.81623651 1.        ]]\n",
      "\n",
      "\n",
      "Mean value for x-value (Data 3) is: 9.0\n",
      "Mean value for y-value (Data 3) is: 7.5\n",
      "Variance value for x (Data 3): 10.0\n",
      "Variance value for y (Data 3): 3.748\n",
      "Pearson Correlation value (Data3):[[1.         0.81628674]\n",
      " [0.81628674 1.        ]]\n",
      "\n",
      "\n",
      "Mean value for x-value (Data 4) is: 9.0\n",
      "Mean value for y-value (Data 4) is: 7.5\n",
      "Variance value for x (Data 4): 10.0\n",
      "Variance value for y (Data 4): 3.748\n",
      "Pearson Correlation value (Data4):[[1.         0.81652144]\n",
      " [0.81652144 1.        ]]\n"
     ]
    }
   ],
   "source": [
    "import pandas as pd\n",
    "import numpy as np\n",
    "\n",
    "link1 = 'https://raw.githubusercontent.com/suneman/socialdata2023/main/files/data1.tsv'\n",
    "link2 = 'https://raw.githubusercontent.com/suneman/socialdata2023/main/files/data2.tsv' \n",
    "link3 = 'https://raw.githubusercontent.com/suneman/socialdata2023/main/files/data3.tsv'\n",
    "link4 = 'https://raw.githubusercontent.com/suneman/socialdata2023/main/files/data4.tsv'\n",
    "\n",
    "def read_data(link):\n",
    "    col_names = [\"X\",\"Y\"]\n",
    "    return pd.read_csv(link, sep='\\t',names=col_names,header=None)\n",
    "\n",
    "def convert_df_to_list(data):\n",
    "    return data.values.T.tolist()\n",
    "\n",
    "\n",
    "data1 = read_data(link1)\n",
    "data2 = read_data(link2)\n",
    "data3 = read_data(link3)\n",
    "data4 = read_data(link4)\n",
    "two_d_list1 = convert_df_to_list(data1)\n",
    "two_d_list2 = convert_df_to_list(data2)\n",
    "two_d_list3 = convert_df_to_list(data3)\n",
    "two_d_list4 = convert_df_to_list(data4)\n",
    "\n",
    "# data 1\n",
    "print(\"Mean value for x-value (Data 1) is: \" + str(np.mean(two_d_list1[0])))\n",
    "print(\"Mean value for y-value (Data 1) is: \" + str(round(np.mean(two_d_list1[1]),2)))\n",
    "print(\"Variance value for x (Data1): \" + str(np.var(two_d_list1[0])))\n",
    "print(\"Variance value for y (Data1): \" + str(round(np.var(two_d_list1[1]),3)))\n",
    "print(\"Pearson Correlation value (Data1):\" + str(np.corrcoef(two_d_list1[0],two_d_list1[1])))\n",
    "\n",
    "\n",
    "# data 2\n",
    "print(\"\\n\")\n",
    "print(\"Mean value for x-value (Data 2) is: \" + str(np.mean(two_d_list2[0])))\n",
    "print(\"Mean value for y-value (Data 2) is: \" + str(round(np.mean(two_d_list2[1]),2)))\n",
    "print(\"Variance value for x (Data 2): \" + str(np.var(two_d_list2[0])))\n",
    "print(\"Variance value for y (Data 2): \" + str(round(np.var(two_d_list2[1]),3)))\n",
    "print(\"Pearson Correlation value (Data2):\" + str(np.corrcoef(two_d_list2[0],two_d_list2[1])))\n",
    "\n",
    "\n",
    "# data 3\n",
    "print(\"\\n\")\n",
    "print(\"Mean value for x-value (Data 3) is: \" + str(np.mean(two_d_list3[0])))\n",
    "print(\"Mean value for y-value (Data 3) is: \" + str(round(np.mean(two_d_list3[1]),2)))\n",
    "print(\"Variance value for x (Data 3): \" + str(np.var(two_d_list3[0])))\n",
    "print(\"Variance value for y (Data 3): \" + str(round(np.var(two_d_list3[1]),3)))\n",
    "print(\"Pearson Correlation value (Data3):\" + str(np.corrcoef(two_d_list3[0],two_d_list3[1])))\n",
    "\n",
    "\n",
    "# data 4\n",
    "print(\"\\n\")\n",
    "print(\"Mean value for x-value (Data 4) is: \" + str(np.mean(two_d_list4[0])))\n",
    "print(\"Mean value for y-value (Data 4) is: \" + str(round(np.mean(two_d_list4[1]),2)))\n",
    "print(\"Variance value for x (Data 4): \" + str(np.var(two_d_list4[0])))\n",
    "print(\"Variance value for y (Data 4): \" + str(round(np.var(two_d_list4[1]),3)))\n",
    "print(\"Pearson Correlation value (Data4):\" + str(np.corrcoef(two_d_list4[0],two_d_list4[1])))"
   ]
  },
  {
   "cell_type": "code",
   "execution_count": 87,
   "metadata": {},
   "outputs": [
    {
     "name": "stdout",
     "output_type": "stream",
     "text": [
      "Data:1\n",
      "LinregressResult(slope=0.5000909090909091, intercept=3.0000909090909103, rvalue=0.8164205163448399, pvalue=0.00216962887307879, stderr=0.11790550059563408)\n",
      "\n",
      "Data:2\n",
      "LinregressResult(slope=0.5000000000000001, intercept=3.000909090909089, rvalue=0.816236506000243, pvalue=0.0021788162369107845, stderr=0.11796374596764074)\n",
      "\n",
      "Data:3\n",
      "LinregressResult(slope=0.4997272727272729, intercept=3.002454545454544, rvalue=0.8162867394895984, pvalue=0.002176305279228015, stderr=0.11787766222100221)\n",
      "\n",
      "Data:4\n",
      "LinregressResult(slope=0.4999090909090909, intercept=3.0017272727272726, rvalue=0.8165214368885028, pvalue=0.002164602347197222, stderr=0.11781894172968553)\n",
      "\n"
     ]
    }
   ],
   "source": [
    "from scipy import stats\n",
    "\n",
    "# Find more efficient way to do this.\n",
    "\n",
    "lin_reg1 = slope, intercept, r_value, p_value, std_err = stats.linregress(data1[\"X\"],data1[\"Y\"])\n",
    "lin_reg2 = slope, intercept, r_value, p_value, std_err = stats.linregress(data2[\"X\"],data2[\"Y\"])\n",
    "lin_reg3 = slope, intercept, r_value, p_value, std_err = stats.linregress(data3[\"X\"],data3[\"Y\"])\n",
    "lin_reg4 = slope, intercept, r_value, p_value, std_err = stats.linregress(data4[\"X\"],data4[\"Y\"])\n",
    "lin_regs = [lin_reg1,lin_reg2,lin_reg3,lin_reg4]\n",
    "\n",
    "i=1\n",
    "for lin_reg in lin_regs:\n",
    "    print(f\"Data:{i}\")\n",
    "    print(str(lin_reg) + \"\\n\")\n",
    "    i+=1"
   ]
  },
  {
   "cell_type": "code",
   "execution_count": 122,
   "metadata": {},
   "outputs": [
    {
     "data": {
      "text/plain": [
       "Text(0.5, 1.0, 'The plot for dataset 4')"
      ]
     },
     "execution_count": 122,
     "metadata": {},
     "output_type": "execute_result"
    },
    {
     "data": {
      "image/png": "[encoded data removed]",
      "text/plain": [
       "<Figure size 432x288 with 4 Axes>"
      ]
     },
     "metadata": {
      "needs_background": "light"
     },
     "output_type": "display_data"
    }
   ],
   "source": [
    "import matplotlib.pyplot as plt\n",
    "import numpy as np\n",
    "\n",
    "'''\n",
    "Finally, it's time to plot the four datasets using matplotlib.pyplot. \n",
    "Use a two-by-two subplot to put all of the plots nicely in a grid and use the same  \n",
    "𝑥 and 𝑦 range for all four plots. And include the linear fit in all four plots. \n",
    "(To get a sense of what I think the plot should look like, you can take a look at my version here.)\n",
    "'''\n",
    "\n",
    "(m_1, b_1) = np.polyfit(two_d_list1[0],two_d_list1[1], 1)\n",
    "(m_2, b_2) = np.polyfit(two_d_list2[0],two_d_list2[1], 1)\n",
    "(m_3, b_3) = np.polyfit(two_d_list3[0],two_d_list3[1], 1)\n",
    "(m_4, b_4) = np.polyfit(two_d_list4[0],two_d_list4[1], 1)\n",
    "\n",
    "plt.subplot(2, 2, 1)\n",
    "yp = np.polyval([m_1, b_1], two_d_list1[0])\n",
    "plt.plot(two_d_list1[0], yp)\n",
    "plt.grid(True)\n",
    "plt.scatter(two_d_list1[0],two_d_list1[1])\n",
    "plt.title(\"The plot for dataset 1\")\n",
    "\n",
    "plt.subplot(2, 2, 2)\n",
    "yp = np.polyval([m_2, b_2], two_d_list2[0])\n",
    "plt.plot(two_d_list2[0], yp)\n",
    "plt.grid(True)\n",
    "plt.scatter(two_d_list2[0],two_d_list2[1])\n",
    "plt.title(\"The plot for dataset 2\")\n",
    "\n",
    "plt.tight_layout(pad=4)\n",
    "plt.subplot(2, 2, 3)\n",
    "yp = np.polyval([m_3, b_3], two_d_list3[0])\n",
    "plt.plot(two_d_list3[0], yp)\n",
    "plt.grid(True)\n",
    "plt.scatter(two_d_list1[0],two_d_list1[1])\n",
    "plt.title(\"The plot for dataset 3\")\n",
    "\n",
    "plt.subplot(2, 2, 4)\n",
    "yp = np.polyval([m_4, b_4], two_d_list4[0])\n",
    "plt.plot(two_d_list4[0], yp)\n",
    "plt.grid(True)\n",
    "plt.scatter(two_d_list4[0],two_d_list4[1])\n",
    "plt.title(\"The plot for dataset 4\")\n",
    "\n",
    "\n",
    "\n",
    "\n"
   ]
  },
  {
   "cell_type": "markdown",
   "metadata": {},
   "source": [
    "Now that you get a better sense of why data visualization is an important and powerful tool, you are ready to get a small intro on the topic! Again, don't watch the video until **after** you've done exercise 1.1 \n",
    "\n",
    "[![IMAGE ALT TEXT HERE](https://img.youtube.com/vi/9D2aI30AMhM/0.jpg)](https://www.youtube.com/watch?v=9D2aI30AMhM)"
   ]
  },
  {
   "cell_type": "markdown",
   "metadata": {},
   "source": [
    "> *Excercise:* Questions for the lecture\n",
    "> * What is the difference between *data* and *metadata*? How does that relate to the GPS tracks-example?\n",
    "> * Sune says that the human eye is a great tool for data analysis. Do you agree? Explain why/why not. Mention something that the human eye is very good at. Can you think of something that [is difficult for the human eye](http://cdn.ebaumsworld.com/mediaFiles/picture/718392/84732652.jpg). Explain why your example is difficult. \n",
    "> * Simpson's paradox is hard to explain. Come up with your own example - or find one on line.\n",
    "> * In your own words, explain the differnece between *exploratory* and *explanatory* data analysis. "
   ]
  },
  {
   "cell_type": "markdown",
   "metadata": {},
   "source": [
    "## Part 2: Visualizing patterns in the data\n",
    "\n",
    "Visualizing data is a powerful technique that helps us exploiting the human eye, and make complex patterns easier to identify. \n",
    "\n",
    "Let's see if we can detect any interesting patterns in the big crime-data file from San Francisco you downloaded last week. We'll again only look at the focus-crimes."
   ]
  },
  {
   "cell_type": "code",
   "execution_count": 7,
   "metadata": {},
   "outputs": [],
   "source": [
    "focuscrimes = set(['WEAPON LAWS', 'PROSTITUTION', 'DRIVING UNDER THE INFLUENCE', 'ROBBERY', 'BURGLARY', 'ASSAULT', 'DRUNKENNESS', 'DRUG/NARCOTIC', 'TRESPASS', 'LARCENY/THEFT', 'VANDALISM', 'VEHICLE THEFT', 'STOLEN PROPERTY', 'DISORDERLY CONDUCT'])"
   ]
  },
  {
   "cell_type": "markdown",
   "metadata": {},
   "source": [
    "> *Exercise*: More temporal patterns. Last time we plotted the development over time (how each of the focus crimes changed over time, year-by-year). Today we'll start by looking at the developments across the months, weekdays, and across the 24 hours of the day. \n",
    ">\n",
    "> **Note:** restrict yourself to the dataset of *entire years*.\n",
    ">\n",
    "> * *Weekly patterns*. Basically, we'll forget about the yearly variation and just count up what happens during each weekday. [Here's what my version looks like](https://raw.githubusercontent.com/suneman/socialdata2022/main/files/weekdays.png). Some things make sense - for example `drunkenness` and the weekend. But there are some aspects that were surprising to me. Check out `prostitution` and mid-week behavior, for example!?\n",
    "> * *The months*. We can also check if some months are worse by counting up number of crimes in Jan, Feb, ..., Dec. Did you see any surprises there?\n",
    "> * *The 24 hour cycle*. We can also forget about weekday and simply count up the number of each crime-type that occurs in the dataset from midnight to 1am, 1am - 2am ... and so on. Again: Give me a couple of comments on what you see. \n",
    "> * *Hours of the week*. But by looking at just 24 hours, we may be missing some important trends that can be modulated by week-day, so let's also check out the 168 hours of the week. So let's see the number of each crime-type Monday night from midninght to 1am, Monday night from 1am-2am - all the way to Sunday night from 11pm to midnight.\n"
   ]
  },
  {
   "cell_type": "markdown",
   "metadata": {},
   "source": [
    "# Part 3: Creating nice plots\n",
    "\n",
    "Ok. There's a lot of barcharts today. We need them ... they are a fantastic tool for data exploration. But it can get monotonous, so let's take a little break to talk about something else before digging deeper with the barcharts.\n",
    "\n",
    "I want to tell you a bit about how to make nice plots. I do that in the video below\n",
    "\n",
    "\n",
    "[![IMAGE ALT TEXT HERE](https://img.youtube.com/vi/9hIu4pgJXQc/0.jpg)](https://www.youtube.com/watch?v=9hIu4pgJXQc)"
   ]
  },
  {
   "cell_type": "markdown",
   "metadata": {},
   "source": [
    "> *Exercise:* Nice plots\n",
    "> * Create a list of 10 rules for nice plots based on the video."
   ]
  },
  {
   "cell_type": "markdown",
   "metadata": {},
   "source": [
    "# Part 4: Exploring other types of plots for temporal data\n",
    "\n",
    "We continue our mini-break from barcharts by exploring more ways to plot temporal data.\n",
    "\n",
    "> *Exercise (extra hard):* Other cool ways to plot temporal data. I am going to introduce three different plot-types. Then your job is to choose a part of the crime-data that you care about - and plot it using these new ways of visualizing data. \n",
    ">\n",
    ">I recommend that you choose a different part of the crime-data for each plot-type.\n",
    "> * Calendar plots. Get started on calendar plots **[here](https://calplot.readthedocs.io/en/latest/)**. There are other packages for plotting these, those are also OK to use.\n",
    "> * [Polar bar chart](https://user-images.githubusercontent.com/12328192/89272649-be76e200-d63e-11ea-97ad-fd1ba5831c89.png). Here I want you to plot a 24-hour pattern of some sort -- those work really well in radial plots (another name for polar plots) because the day  wraps around on itself. You can also try plotting data with patterns from the 168 hours of the week. There's not one super-awesome solution here, you can try using [pure matplotlib](https://matplotlib.org/stable/gallery/pie_and_polar_charts/polar_bar.html) ... [some examples here](https://www.python-graph-gallery.com/circular-barplot/) or via [plotly](https://plotly.com/python/polar-chart/) (scroll down a bit for the polar barchart).\n",
    "> * Time series. Time series is a key functionality of `Pandas`, so here I simply recommend starting by searching your favorite search engine for something like `time series` `pandas`\n",
    "\n",
    "**Note**: I added this exercise with fewer hints than usual to give you a bit of an extra challenge. Once you're done, you'll agree that it is not difficult to create these plots. What ***IS*** difficult is figuring out all the little steps you need to do to make them work. \n",
    "\n",
    "*My philosophy for data science is this*: Getting to what you want rarely seems hard once you found your way there, the difficulty comes in breaking down a hard problem into the little steps you need to take to solve your complex problem. In this class, I usually do the breaking down for you and provide you with the steps (that's how you go from nothing to creating complex visualizations of crime-data). But I also want you to learn the breaking-problems-down part. So this time I'm trying to do that by posing a slightly more high-level set of problems than usual. \n",
    "\n",
    "*My approach is always to think*: Even if my task seems impossible, I think is there any problem that I ***CAN*** solve that will get me closer to where I want to go. Once I've solved that part, I'm smarter and I try to think: Is there a new problem I can solve that'll get me closer knowing what I know now. And I just keep going. Usually that's enough.\n",
    "\n",
    "*If that seems too abstract*, a useful goal for you is to use your internet searching skills to figure out how to make each visualization work -- look for examples, tutorials, stack overflow posts, people who have found the same error messages as you, etc, etc."
   ]
  },
  {
   "cell_type": "markdown",
   "metadata": {},
   "source": [
    "# Part 5: Back to visualizing patterns in the data\n",
    "\n",
    "The next thing we'll be looking into is how crimes break down across the 10 districts in San Francisco.\n",
    "\n",
    "> *Exercise*: The types of crime and how they take place across San Francisco's police districts.\n",
    ">  \n",
    ">  * So now we'll be combining information about `PdDistrict` and `Category` to explore differences between SF's neighborhoods. First, simply list the names of SF's 10 police districts.\n",
    ">  * Which has the most crimes? Which has the most focus crimes?\n",
    ">  * Next, we want to generate a slightly more complicated graphic. I'm interested to know if there are certain crimes that happen much more in certain neighborhoods than what's typical. Below I describe how to get that plot going:\n",
    ">    - First, we need to calculate the relative probabilities of seeing each type of crime in the dataset as a whole. That's simply a normalized version of [this plot](https://raw.githubusercontent.com/suneman/socialdata2022/main/files/CrimeOccurrencesByCategory.png). Let's call it `P(crime)`.\n",
    ">    - Next, we calculate that same probability distribution _but for each PD district_, let's call that `P(crime|district)`.\n",
    ">    - Now we look at the ratio `P(crime|district)/P(crime)`. That ratio is equal to 1 if the crime occurs at the same level within a district as in the city as a whole. If it's greater than one, it means that the crime occurs _more frequently_ within that district. If it's smaller than one, it means that the crime is _rarer within the district in question_ than in the city as a whole.\n",
    ">    - For each district plot these ratios for the 14 focus crimes. My plot looks like this\n",
    "> ![Histograms](https://raw.githubusercontent.com/suneman/socialdata2022/main/files/conditional.png \"histograms\")\n",
    ">    - Comment on the top crimes in _Tenderloin_, _Mission_, and _Richmond_. Does this fit with the impression you get of these neighborhoods on Wikipedia?\n",
    "\n",
    "**Comment**. Notice how much awesome data science (i.e. learning about interesting real-world crime patterns) we can get out by simply counting and plotting (and looking at ratios). Pretty great, right? "
   ]
  },
  {
   "cell_type": "code",
   "execution_count": null,
   "metadata": {},
   "outputs": [],
   "source": []
  }
 ],
 "metadata": {
  "kernelspec": {
   "display_name": "Python 3 (ipykernel)",
   "language": "python",
   "name": "python3"
  },
  "language_info": {
   "codemirror_mode": {
    "name": "ipython",
    "version": 3
   },
   "file_extension": ".py",
   "mimetype": "text/x-python",
   "name": "python",
   "nbconvert_exporter": "python",
   "pygments_lexer": "ipython3",
   "version": "3.8.2"
  }
 },
 "nbformat": 4,
 "nbformat_minor": 4
}
